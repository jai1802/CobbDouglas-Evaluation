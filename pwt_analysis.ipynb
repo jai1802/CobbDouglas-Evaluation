{
 "cells": [
  {
   "cell_type": "code",
   "execution_count": 145,
   "id": "0ccbfe86-08d7-4391-8fb3-24a08fe5865b",
   "metadata": {},
   "outputs": [],
   "source": [
    "import pandas as pd\n",
    "from sklearn.metrics import r2_score\n",
    "from sklearn.metrics import mean_squared_error\n",
    "import numpy as np\n",
    "from sklearn.linear_model import LinearRegression\n",
    "import matplotlib.pyplot as plt"
   ]
  },
  {
   "cell_type": "markdown",
   "id": "d4dedf57-a5c8-4e25-b8d0-72a7c0177d9d",
   "metadata": {
    "tags": []
   },
   "source": [
    "### Modelling Economies with the Cobb-Douglas Production Function\n",
    "A common method of modelling supply-side metrics in economics such as a company’s total production or a country’s GDP is the Cobb-Douglas function. This function can be manipulated and used as the basis of a\n",
    "linear regression, which I will apply to the Penn World Table, a dataset that includes the various economic metrics of 183 countries between 1950 and 2019.\n",
    "\n",
    "The Cobb-Douglas Production Functions models an economy's output as a function of two factors of production, capital and labor:\n",
    "$$ Q = A\\cdot K^\\alpha \\cdot L^\\beta$$\n",
    "Where Q represents output, K represents capital, and L represents labor and A,α,β are non-negative constant parameter."
   ]
  },
  {
   "cell_type": "markdown",
   "id": "5fd7fa45-7698-4179-9fd3-beb89ab2a438",
   "metadata": {},
   "source": [
    "#### Cleaning the data"
   ]
  },
  {
   "cell_type": "code",
   "execution_count": 146,
   "id": "201410a5-9fb0-4697-8b20-c814884b07bf",
   "metadata": {},
   "outputs": [],
   "source": [
    "pwt = pd.read_excel(\"pwt100.xlsx\", sheet_name=2)"
   ]
  },
  {
   "cell_type": "markdown",
   "id": "03eaae5e-6661-4d27-bbd6-d375f074e0f4",
   "metadata": {},
   "source": [
    "The dataset in question is version 10.0 of the Penn World Table. 5 The raw data is available as an\n",
    "excel sheet with 12,811 entries each containing 51 different economic metrics. The table here is modified to include only the metrics relevant to this investigation (output, capital, and labor)"
   ]
  },
  {
   "cell_type": "code",
   "execution_count": 147,
   "id": "5eaaad68-e49f-49a4-97ed-47263ffada82",
   "metadata": {},
   "outputs": [],
   "source": [
    "pwt = pwt[['country', 'year', 'rgdpe', 'cn', 'emp']]\n",
    "pwt.dropna(inplace = True)"
   ]
  },
  {
   "cell_type": "markdown",
   "id": "b2d1f8ff-5010-4a10-bd4e-2eea94b8aff6",
   "metadata": {},
   "source": [
    "Expanding the dataframe to contain columns with the natural log of the raw data for clarity:"
   ]
  },
  {
   "cell_type": "code",
   "execution_count": 148,
   "id": "2ab96b2d-e08d-4ff3-9767-fbd344c33d20",
   "metadata": {},
   "outputs": [],
   "source": [
    "pwt[['logQ', 'logK', 'logL']] = np.log(pwt[['rgdpe', 'cn', 'emp']])"
   ]
  },
  {
   "cell_type": "markdown",
   "id": "6e69f3ab-8e03-42e8-82eb-597f4cecf37b",
   "metadata": {},
   "source": [
    "#### Constructing the model"
   ]
  },
  {
   "cell_type": "markdown",
   "id": "bd0c495e-c5b9-450f-8ce3-c8823efdfcbc",
   "metadata": {},
   "source": [
    "Taking the natural log of both sides of the CD function allows for it to be used as the basis of a linear regression:\n",
    "$$ln⁡Q=ln⁡(A⋅K^α⋅L^β)\\\\\n",
    "⇔ln⁡Q=ln⁡(A)+ln⁡(K^α )+ln⁡(L^β )\\\\\n",
    "⇔ln⁡Q=ln⁡(A)+α ln⁡(K)+β ln⁡(L)$$\n",
    "Hence, the linear regression models the natural log of an economies output as a function of the natural log of capital and labor available in the economy\n",
    "\n"
   ]
  },
  {
   "cell_type": "markdown",
   "id": "b2e6ee85-b05e-433b-9d1c-28405650cc34",
   "metadata": {
    "tags": []
   },
   "source": [
    "Separating training and test data:"
   ]
  },
  {
   "cell_type": "code",
   "execution_count": 149,
   "id": "45d6e94b-613f-4f86-85d2-fc48364ea6a8",
   "metadata": {},
   "outputs": [],
   "source": [
    "shuffled_pwt = pwt.sample(frac=1)\n",
    "pwt_train = shuffled_pwt.iloc[0: int(0.9 * len(shuffled_pwt))]\n",
    "pwt_test = shuffled_pwt.iloc[int(0.9 * len(shuffled_pwt)):]"
   ]
  },
  {
   "cell_type": "markdown",
   "id": "c1ea65d0-da26-4e48-b87e-820eb20874cb",
   "metadata": {},
   "source": [
    "Fitting the model"
   ]
  },
  {
   "cell_type": "code",
   "execution_count": 150,
   "id": "0ff3fa56-6c4e-4e7f-849d-88b64f93e369",
   "metadata": {},
   "outputs": [],
   "source": [
    "model = LinearRegression()\n",
    "model.fit(pwt_train[['logK', 'logL']], pwt_train[[\"logQ\"]]);"
   ]
  },
  {
   "cell_type": "markdown",
   "id": "4c5801a5-b8d9-4392-bf8d-9d979e4653fc",
   "metadata": {},
   "source": [
    "#### Testing the model"
   ]
  },
  {
   "cell_type": "code",
   "execution_count": 151,
   "id": "ba10cc0a-ba10-4ba5-85c0-2b3b6bfe2098",
   "metadata": {},
   "outputs": [],
   "source": [
    "logQ_predicted = model.predict(pwt_test[['logK', 'logL']])\n",
    "r_square = r2_score(pwt_test['logQ'], logQ_predicted)"
   ]
  },
  {
   "cell_type": "code",
   "execution_count": 152,
   "id": "8e043ca3-6504-4916-b3b6-3a553f7c73a4",
   "metadata": {},
   "outputs": [
    {
     "data": {
      "text/plain": [
       "0.9578180007305263"
      ]
     },
     "execution_count": 152,
     "metadata": {},
     "output_type": "execute_result"
    }
   ],
   "source": [
    "r_square"
   ]
  },
  {
   "cell_type": "markdown",
   "id": "deed2a4e-82b3-4164-9a55-bda5822aeb58",
   "metadata": {},
   "source": [
    "The r^2 value of the model based on the training data is > 0.95, suggesting that the model performs extremely well on unseen data"
   ]
  },
  {
   "cell_type": "code",
   "execution_count": 153,
   "id": "9e2f5cf4-3105-4632-811f-3cd65294b052",
   "metadata": {},
   "outputs": [
    {
     "data": {
      "text/plain": [
       "(0.44526371072823956, 4.190924882601943)"
      ]
     },
     "execution_count": 153,
     "metadata": {},
     "output_type": "execute_result"
    }
   ],
   "source": [
    "rmse = np.sqrt(mean_squared_error(pwt_test['logQ'], logQ_predicted))\n",
    "rmse_percentage = rmse / np.mean(pwt_test['logQ'])\n",
    "rmse, rmse_percentage * 100"
   ]
  },
  {
   "cell_type": "markdown",
   "id": "119fd4eb-fb45-41f2-a3f9-a83d98ca86d1",
   "metadata": {},
   "source": [
    "The root-mean-square-error for the model is approximately 0.45, or 4% of the mean value for logQ. This is acceptably low and indicates the model is considerably accurate"
   ]
  },
  {
   "cell_type": "markdown",
   "id": "1e1315d4-436a-4aa7-9b8c-d97692952fa9",
   "metadata": {
    "tags": []
   },
   "source": [
    "#### Coefficient Analysis"
   ]
  },
  {
   "cell_type": "markdown",
   "id": "fd3f6c6a-9eaa-42e6-acea-ed8c52ebe048",
   "metadata": {},
   "source": [
    "The coefficients of the linear model give us the corresponding values of log(A), alpha, and beta in the CD model:"
   ]
  },
  {
   "cell_type": "code",
   "execution_count": 154,
   "id": "e5735414-936e-46f5-9778-f41ca684b19d",
   "metadata": {},
   "outputs": [],
   "source": [
    "A = np.exp(model.intercept_)[0]\n",
    "alpha = model.coef_[0][0]\n",
    "beta = model.coef_[0][1]"
   ]
  },
  {
   "cell_type": "markdown",
   "id": "0cd39108-259f-41c8-933b-f31e5dd245be",
   "metadata": {},
   "source": [
    "In the CD function, _A_ is a metric that represents the 'total factor productivity of an economy' (TFP), i.e how well an economy utilizes the available labor and capital. \n",
    "\n",
    "While the values of this paramter over the entire dataset don't give much insight, seeing the change in parameters over time tells us more about the global economy\n",
    "\n",
    "By grouping the entire dataset by year, we can use the model that was just constructed to find the total factor productivity of the global economy at multiple periods in time, starting from 1950 up to 2019, and see the corresponding trend "
   ]
  },
  {
   "cell_type": "code",
   "execution_count": 155,
   "id": "2baacee5-82b3-451c-85e8-c0130b301527",
   "metadata": {},
   "outputs": [],
   "source": [
    "def get_tfp(df):\n",
    "    A_coef = {}\n",
    "    for i in df.groupby(by='year'):\n",
    "        m = LinearRegression()\n",
    "        year, d = i[0], i[1]\n",
    "        m.fit(d[['logK', 'logL']], d[['logQ']])\n",
    "        A_coef[year] = np.exp(m.intercept_)[0]\n",
    "    return A_coef\n",
    "\n",
    "global_productivity = get_tfp(pwt)"
   ]
  },
  {
   "cell_type": "code",
   "execution_count": 156,
   "id": "8b472947-b23f-4b3a-9df5-b8a9747a24db",
   "metadata": {},
   "outputs": [
    {
     "data": {
      "image/png": "[encoded data removed]",
      "text/plain": [
       "<Figure size 432x288 with 1 Axes>"
      ]
     },
     "metadata": {
      "needs_background": "light"
     },
     "output_type": "display_data"
    }
   ],
   "source": [
    "plt.plot(global_productivity.keys(), global_productivity.values())\n",
    "plt.xlabel(\"Year\")\n",
    "plt.ylabel(\"Total Factor Productivty\")\n",
    "plt.show()"
   ]
  },
  {
   "cell_type": "markdown",
   "id": "fa0fd31d-9311-4ef3-bb0f-64149aee85af",
   "metadata": {},
   "source": [
    "Interestingly, we see that total factor productivity declines over time. I'd expect an increase in productivity with advances in technology, but it seems that the world's productivity has declined over time"
   ]
  },
  {
   "cell_type": "markdown",
   "id": "bed1e1e7-1295-4608-8978-10dbef754edd",
   "metadata": {},
   "source": [
    "Doing the same with only data pertaining to the United States, we see starkly different results:"
   ]
  },
  {
   "cell_type": "code",
   "execution_count": 157,
   "id": "4b98dece-a8c9-45bc-9fcd-ac079cff6ac4",
   "metadata": {},
   "outputs": [
    {
     "data": {
      "image/png": "[encoded data removed]",
      "text/plain": [
       "<Figure size 432x288 with 1 Axes>"
      ]
     },
     "metadata": {
      "needs_background": "light"
     },
     "output_type": "display_data"
    }
   ],
   "source": [
    "pwt_usa = pwt[pwt['country'] == 'United States']\n",
    "USA_productivity = get_tfp(pwt_usa)\n",
    "\n",
    "plt.plot(USA_productivity.keys(), USA_productivity.values(), 'r')\n",
    "plt.xlabel(\"Year\")\n",
    "plt.ylabel(\"Total Factor Productivty\")\n",
    "plt.show()"
   ]
  },
  {
   "cell_type": "markdown",
   "id": "e662cf11-d210-4690-83c0-041a83b09abd",
   "metadata": {},
   "source": [
    "Interestingly, we see that the US shows a significant rise in TFP, while the world as a whole declines. While there may be multiple factors for this, a possible explanation is that the benefits of scientific and technological advancements are primarily being reaped by a select few countries while the rest struggle to effectively"
   ]
  },
  {
   "cell_type": "code",
   "execution_count": null,
   "id": "910db724-8a0a-4768-b757-43a0726b612b",
   "metadata": {},
   "outputs": [],
   "source": []
  }
 ],
 "metadata": {
  "kernelspec": {
   "display_name": "Python 3 (ipykernel)",
   "language": "python",
   "name": "python3"
  },
  "language_info": {
   "codemirror_mode": {
    "name": "ipython",
    "version": 3
   },
   "file_extension": ".py",
   "mimetype": "text/x-python",
   "name": "python",
   "nbconvert_exporter": "python",
   "pygments_lexer": "ipython3",
   "version": "3.9.6"
  }
 },
 "nbformat": 4,
 "nbformat_minor": 5
}
